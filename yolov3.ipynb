{
 "cells": [
  {
   "cell_type": "code",
   "execution_count": 1,
   "metadata": {},
   "outputs": [],
   "source": [
    "%load_ext autoreload\n",
    "%autoreload 2\n",
    "\n",
    "import pathlib\n",
    "\n",
    "import numpy as np\n",
    "import matplotlib.pyplot as plt\n",
    "import imageio\n",
    "\n",
    "import torch\n",
    "from torch import nn, optim\n",
    "import torch.nn.functional as F\n",
    "\n",
    "from core.layers import *\n",
    "from core.utils import *\n",
    "from core.models import *\n",
    "torch.set_printoptions(sci_mode=False)"
   ]
  },
  {
   "cell_type": "code",
   "execution_count": 5,
   "metadata": {},
   "outputs": [],
   "source": [
    "net_params, layer_infos = parse_darknet_cfg(\"cfg/yolov3-tiny.cfg\")"
   ]
  },
  {
   "cell_type": "code",
   "execution_count": 6,
   "metadata": {},
   "outputs": [],
   "source": [
    "net = Darknet(net_params, layer_infos)"
   ]
  },
  {
   "cell_type": "code",
   "execution_count": 11,
   "metadata": {},
   "outputs": [
    {
     "name": "stdout",
     "output_type": "stream",
     "text": [
      "8858734\n",
      "batch_norm here\n",
      "batch_norm here\n",
      "batch_norm here\n",
      "batch_norm here\n",
      "batch_norm here\n",
      "batch_norm here\n",
      "batch_norm here\n",
      "batch_norm here\n",
      "batch_norm here\n",
      "no batch_norm here\n",
      "batch_norm here\n",
      "batch_norm here\n",
      "no batch_norm here\n",
      "8858734\n"
     ]
    }
   ],
   "source": [
    "net.load_weights(\"weights/yolov3-tiny.weights\")"
   ]
  },
  {
   "cell_type": "code",
   "execution_count": 6,
   "metadata": {},
   "outputs": [],
   "source": [
    "detections = net(x)"
   ]
  },
  {
   "cell_type": "code",
   "execution_count": 12,
   "metadata": {},
   "outputs": [
    {
     "data": {
      "text/plain": [
       "tensor([[ 0.4783,  0.5484,  0.8574,  2.3427],\n",
       "        [ 0.5225,  0.4941,  5.0189,  3.8498],\n",
       "        [ 0.5239,  0.5719,  6.4779,  9.4966],\n",
       "        [ 0.4235,  1.6370,  2.1309,  4.0914],\n",
       "        [ 0.4381,  1.3346,  2.8275,  2.3458],\n",
       "        [ 0.2411,  1.5349, 12.9358, 16.3953],\n",
       "        [ 0.3281,  2.6609,  1.9467,  1.5835],\n",
       "        [ 0.5914,  2.2955,  4.9249,  5.0984],\n",
       "        [ 0.2744,  2.5458, 16.5545, 21.8439],\n",
       "        [ 0.3733,  3.6103,  5.1404,  1.4062],\n",
       "        [ 0.6628,  3.5368,  2.9110,  2.8516],\n",
       "        [ 0.2020,  3.4422,  9.1731, 15.5886],\n",
       "        [ 0.4218,  4.6056,  1.6285,  1.8431],\n",
       "        [ 0.5725,  4.2555,  4.0777,  2.9440],\n",
       "        [ 0.5621,  4.5854,  5.6253,  7.9249],\n",
       "        [ 0.4136,  5.6826,  0.8587,  1.4887],\n",
       "        [ 0.5085,  5.6261,  2.8444,  2.7643],\n",
       "        [ 0.4336,  5.7645, 15.5707,  7.9424],\n",
       "        [ 0.6809,  6.3955,  2.1564,  3.0839],\n",
       "        [ 0.5447,  6.5677,  1.6626,  6.0714],\n",
       "        [ 0.5488,  6.6893, 10.4614, 13.4394]], grad_fn=<DivBackward0>)"
      ]
     },
     "execution_count": 12,
     "metadata": {},
     "output_type": "execute_result"
    }
   ],
   "source": [
    "detections[0, :21, :4] / 32"
   ]
  },
  {
   "cell_type": "code",
   "execution_count": 24,
   "metadata": {},
   "outputs": [],
   "source": [
    "module_list = get_layers(net_params, layer_infos)"
   ]
  },
  {
   "cell_type": "code",
   "execution_count": 39,
   "metadata": {},
   "outputs": [],
   "source": [
    "weight_path = \"weights/yolov3-tiny.weights\"\n",
    "\n",
    "             "
   ]
  },
  {
   "cell_type": "code",
   "execution_count": 68,
   "metadata": {},
   "outputs": [
    {
     "data": {
      "text/plain": [
       "array([-0.91183471, -1.98457233,  0.22166992, -0.4135193 , -0.3260484 ,\n",
       "       -0.27250718, -0.73718413,  0.73476597, -2.71321912,  0.76695162,\n",
       "       -0.82399737,  0.58645394,  0.56753388,  0.73581492, -0.19255175,\n",
       "        0.28950051, -0.65010059,  0.38207499, -0.1593287 , -0.59359104,\n",
       "        0.32452083,  0.01254573, -0.49072232,  0.80269107,  0.40856557,\n",
       "        0.50302949, -0.24444209,  0.37791295, -0.26664745, -1.46128504,\n",
       "        0.23326992,  0.02594722, -0.24125236, -0.70920601, -0.35684534,\n",
       "       -1.84135099,  1.19903287, -0.23538413, -0.6250458 ,  0.28331517,\n",
       "       -0.95826191,  0.32623083, -0.23541449,  0.60792159,  0.81297471,\n",
       "        0.45569041, -0.77034322, -0.66719094,  1.14997418, -0.08367423,\n",
       "       -1.69414651, -0.61493023,  0.29588771,  0.00401442,  0.63989825,\n",
       "        0.52091433,  0.29810576,  0.2711127 ,  0.3271997 ,  0.25368677,\n",
       "       -0.25763093, -0.88943164,  1.08185021,  1.39688086,  0.38195897,\n",
       "        0.58521092, -2.74533801, -0.35288031,  0.4941963 ,  1.34739072,\n",
       "        0.29414065, -1.82585924, -0.78467261, -0.39077861,  0.04332087,\n",
       "        0.02604083, -0.26494592, -0.3650366 ,  1.17525786,  0.71567345,\n",
       "       -0.41990765,  0.94578695,  1.74255896, -0.51932068,  0.07149083,\n",
       "       -0.1308221 , -1.29828655,  0.4954618 , -0.2091905 , -1.66165104,\n",
       "        0.31975706, -0.35863012,  0.55145025, -0.20341468,  0.508428  ,\n",
       "       -1.12410129, -1.27881532, -0.69655813,  1.75469399,  1.86553257])"
      ]
     },
     "execution_count": 68,
     "metadata": {},
     "output_type": "execute_result"
    }
   ],
   "source": [
    "a =np.random.randn(100)\n",
    "a"
   ]
  },
  {
   "cell_type": "code",
   "execution_count": 63,
   "metadata": {},
   "outputs": [],
   "source": [
    "bn = nn.BatchNorm2d(20)"
   ]
  },
  {
   "cell_type": "code",
   "execution_count": 80,
   "metadata": {},
   "outputs": [
    {
     "data": {
      "text/plain": [
       "21"
      ]
     },
     "execution_count": 80,
     "metadata": {},
     "output_type": "execute_result"
    }
   ],
   "source": [
    "_load_params(bn.running_mean, a, 1)"
   ]
  },
  {
   "cell_type": "code",
   "execution_count": 82,
   "metadata": {},
   "outputs": [
    {
     "data": {
      "text/plain": [
       "tensor([-1.9846,  0.2217, -0.4135, -0.3260, -0.2725, -0.7372,  0.7348, -2.7132,\n",
       "         0.7670, -0.8240,  0.5865,  0.5675,  0.7358, -0.1926,  0.2895, -0.6501,\n",
       "         0.3821, -0.1593, -0.5936,  0.3245])"
      ]
     },
     "execution_count": 82,
     "metadata": {},
     "output_type": "execute_result"
    }
   ],
   "source": [
    "bn.running_mean"
   ]
  },
  {
   "cell_type": "code",
   "execution_count": null,
   "metadata": {},
   "outputs": [],
   "source": []
  }
 ],
 "metadata": {
  "kernelspec": {
   "display_name": "Python [conda env:ml]",
   "language": "python",
   "name": "conda-env-ml-py"
  },
  "language_info": {
   "codemirror_mode": {
    "name": "ipython",
    "version": 3
   },
   "file_extension": ".py",
   "mimetype": "text/x-python",
   "name": "python",
   "nbconvert_exporter": "python",
   "pygments_lexer": "ipython3",
   "version": "3.7.5"
  }
 },
 "nbformat": 4,
 "nbformat_minor": 4
}
